{
 "cells": [
  {
   "cell_type": "markdown",
   "id": "e0f35dae",
   "metadata": {},
   "source": []
  },
  {
   "cell_type": "markdown",
   "id": "e72f71ca",
   "metadata": {},
   "source": [
    "# Rishi Raj      22M0033"
   ]
  },
  {
   "cell_type": "code",
   "execution_count": 1,
   "id": "22901d4d",
   "metadata": {},
   "outputs": [],
   "source": [
    "import numpy as np\n",
    "import pandas as pd"
   ]
  },
  {
   "cell_type": "code",
   "execution_count": 2,
   "id": "169458c1",
   "metadata": {},
   "outputs": [
    {
     "data": {
      "text/html": [
       "<div>\n",
       "<style scoped>\n",
       "    .dataframe tbody tr th:only-of-type {\n",
       "        vertical-align: middle;\n",
       "    }\n",
       "\n",
       "    .dataframe tbody tr th {\n",
       "        vertical-align: top;\n",
       "    }\n",
       "\n",
       "    .dataframe thead th {\n",
       "        text-align: right;\n",
       "    }\n",
       "</style>\n",
       "<table border=\"1\" class=\"dataframe\">\n",
       "  <thead>\n",
       "    <tr style=\"text-align: right;\">\n",
       "      <th></th>\n",
       "      <th>0</th>\n",
       "      <th>1</th>\n",
       "      <th>2</th>\n",
       "      <th>3</th>\n",
       "      <th>4</th>\n",
       "    </tr>\n",
       "  </thead>\n",
       "  <tbody>\n",
       "    <tr>\n",
       "      <th>0</th>\n",
       "      <td>0.847059</td>\n",
       "      <td>1.000000</td>\n",
       "      <td>0.541667</td>\n",
       "      <td>0.969072</td>\n",
       "      <td>0.577320</td>\n",
       "    </tr>\n",
       "    <tr>\n",
       "      <th>1</th>\n",
       "      <td>0.658824</td>\n",
       "      <td>0.910112</td>\n",
       "      <td>0.260417</td>\n",
       "      <td>0.123711</td>\n",
       "      <td>0.608247</td>\n",
       "    </tr>\n",
       "    <tr>\n",
       "      <th>2</th>\n",
       "      <td>0.847059</td>\n",
       "      <td>0.157303</td>\n",
       "      <td>0.020833</td>\n",
       "      <td>0.494845</td>\n",
       "      <td>0.113402</td>\n",
       "    </tr>\n",
       "    <tr>\n",
       "      <th>3</th>\n",
       "      <td>0.741176</td>\n",
       "      <td>0.966292</td>\n",
       "      <td>0.177083</td>\n",
       "      <td>0.835052</td>\n",
       "      <td>0.608247</td>\n",
       "    </tr>\n",
       "    <tr>\n",
       "      <th>4</th>\n",
       "      <td>0.341176</td>\n",
       "      <td>0.617978</td>\n",
       "      <td>0.281250</td>\n",
       "      <td>0.164948</td>\n",
       "      <td>0.164948</td>\n",
       "    </tr>\n",
       "    <tr>\n",
       "      <th>5</th>\n",
       "      <td>1.000000</td>\n",
       "      <td>0.640449</td>\n",
       "      <td>0.322917</td>\n",
       "      <td>0.103093</td>\n",
       "      <td>0.814433</td>\n",
       "    </tr>\n",
       "    <tr>\n",
       "      <th>6</th>\n",
       "      <td>0.047059</td>\n",
       "      <td>0.146067</td>\n",
       "      <td>0.229167</td>\n",
       "      <td>1.000000</td>\n",
       "      <td>1.000000</td>\n",
       "    </tr>\n",
       "    <tr>\n",
       "      <th>7</th>\n",
       "      <td>0.023529</td>\n",
       "      <td>0.662921</td>\n",
       "      <td>1.000000</td>\n",
       "      <td>0.917526</td>\n",
       "      <td>0.731959</td>\n",
       "    </tr>\n",
       "    <tr>\n",
       "      <th>8</th>\n",
       "      <td>0.400000</td>\n",
       "      <td>0.146067</td>\n",
       "      <td>0.739583</td>\n",
       "      <td>0.268041</td>\n",
       "      <td>0.649485</td>\n",
       "    </tr>\n",
       "    <tr>\n",
       "      <th>9</th>\n",
       "      <td>0.117647</td>\n",
       "      <td>0.213483</td>\n",
       "      <td>0.604167</td>\n",
       "      <td>0.680412</td>\n",
       "      <td>0.711340</td>\n",
       "    </tr>\n",
       "    <tr>\n",
       "      <th>10</th>\n",
       "      <td>0.800000</td>\n",
       "      <td>0.292135</td>\n",
       "      <td>0.093750</td>\n",
       "      <td>0.247423</td>\n",
       "      <td>0.216495</td>\n",
       "    </tr>\n",
       "    <tr>\n",
       "      <th>11</th>\n",
       "      <td>0.600000</td>\n",
       "      <td>0.898876</td>\n",
       "      <td>0.697917</td>\n",
       "      <td>0.371134</td>\n",
       "      <td>0.989691</td>\n",
       "    </tr>\n",
       "  </tbody>\n",
       "</table>\n",
       "</div>"
      ],
      "text/plain": [
       "           0         1         2         3         4\n",
       "0   0.847059  1.000000  0.541667  0.969072  0.577320\n",
       "1   0.658824  0.910112  0.260417  0.123711  0.608247\n",
       "2   0.847059  0.157303  0.020833  0.494845  0.113402\n",
       "3   0.741176  0.966292  0.177083  0.835052  0.608247\n",
       "4   0.341176  0.617978  0.281250  0.164948  0.164948\n",
       "5   1.000000  0.640449  0.322917  0.103093  0.814433\n",
       "6   0.047059  0.146067  0.229167  1.000000  1.000000\n",
       "7   0.023529  0.662921  1.000000  0.917526  0.731959\n",
       "8   0.400000  0.146067  0.739583  0.268041  0.649485\n",
       "9   0.117647  0.213483  0.604167  0.680412  0.711340\n",
       "10  0.800000  0.292135  0.093750  0.247423  0.216495\n",
       "11  0.600000  0.898876  0.697917  0.371134  0.989691"
      ]
     },
     "execution_count": 2,
     "metadata": {},
     "output_type": "execute_result"
    }
   ],
   "source": [
    "samples_num = 12\n",
    "feature_dimension = 5\n",
    "weight_vector = np.random.randint(-10,10,size=(feature_dimension,1))\n",
    "bias_vector = np.random.randint(1,size=(samples_num,1))\n",
    "noise = np.random.randint(0,10,size=(samples_num,1))\n",
    "variance = np.random.randint(9,10,size=(samples_num,1))\n",
    "def data_matrix_generator(a,b):\n",
    "    random_array=np.random.randint(0, 100, size=(a,b))\n",
    "    def normalizer(a):\n",
    "        x_normed = a/ a.max(axis=0) #https://stackoverflow.com/questions/29661574/normalize-numpy-array-columns-in-python\n",
    "        return x_normed\n",
    "    return pd.DataFrame(normalizer(random_array))\n",
    "data_matrix = data_matrix_generator(samples_num,feature_dimension)\n",
    "data_matrix   "
   ]
  },
  {
   "cell_type": "code",
   "execution_count": 3,
   "id": "eddfd1c3",
   "metadata": {},
   "outputs": [],
   "source": [
    "def target_column_vector_generator(a,b,c,d,e):\n",
    "    target_vector= np.dot(a,b)+c+d+e\n",
    "    return target_vector \n",
    "target_vector=target_column_vector_generator(data_matrix,weight_vector,bias_vector,noise,variance)\n",
    "    "
   ]
  },
  {
   "cell_type": "code",
   "execution_count": 4,
   "id": "dc01416a",
   "metadata": {},
   "outputs": [
    {
     "data": {
      "text/plain": [
       "array([[ 7.67787548],\n",
       "       [ 9.51373881],\n",
       "       [ 5.85305116],\n",
       "       [ 9.98440495],\n",
       "       [14.37267573],\n",
       "       [ 7.85711562],\n",
       "       [-0.05151465],\n",
       "       [ 8.44998739],\n",
       "       [11.23250849],\n",
       "       [ 4.352745  ],\n",
       "       [ 8.09624551],\n",
       "       [ 2.15216369]])"
      ]
     },
     "execution_count": 4,
     "metadata": {},
     "output_type": "execute_result"
    }
   ],
   "source": [
    "target_vector"
   ]
  },
  {
   "cell_type": "code",
   "execution_count": null,
   "id": "c30289aa",
   "metadata": {},
   "outputs": [],
   "source": []
  },
  {
   "cell_type": "code",
   "execution_count": 5,
   "id": "c2d03c3f",
   "metadata": {},
   "outputs": [
    {
     "data": {
      "text/html": [
       "<div>\n",
       "<style scoped>\n",
       "    .dataframe tbody tr th:only-of-type {\n",
       "        vertical-align: middle;\n",
       "    }\n",
       "\n",
       "    .dataframe tbody tr th {\n",
       "        vertical-align: top;\n",
       "    }\n",
       "\n",
       "    .dataframe thead th {\n",
       "        text-align: right;\n",
       "    }\n",
       "</style>\n",
       "<table border=\"1\" class=\"dataframe\">\n",
       "  <thead>\n",
       "    <tr style=\"text-align: right;\">\n",
       "      <th></th>\n",
       "      <th>0</th>\n",
       "      <th>1</th>\n",
       "      <th>2</th>\n",
       "      <th>3</th>\n",
       "      <th>4</th>\n",
       "    </tr>\n",
       "  </thead>\n",
       "  <tbody>\n",
       "    <tr>\n",
       "      <th>0</th>\n",
       "      <td>0.847059</td>\n",
       "      <td>1.000000</td>\n",
       "      <td>0.158927</td>\n",
       "      <td>0.881910</td>\n",
       "      <td>0.064133</td>\n",
       "    </tr>\n",
       "    <tr>\n",
       "      <th>1</th>\n",
       "      <td>0.658824</td>\n",
       "      <td>0.828305</td>\n",
       "      <td>0.017661</td>\n",
       "      <td>0.000234</td>\n",
       "      <td>0.083253</td>\n",
       "    </tr>\n",
       "    <tr>\n",
       "      <th>2</th>\n",
       "      <td>0.847059</td>\n",
       "      <td>0.024744</td>\n",
       "      <td>0.000009</td>\n",
       "      <td>0.059962</td>\n",
       "      <td>0.000019</td>\n",
       "    </tr>\n",
       "    <tr>\n",
       "      <th>3</th>\n",
       "      <td>0.741176</td>\n",
       "      <td>0.933720</td>\n",
       "      <td>0.005553</td>\n",
       "      <td>0.486243</td>\n",
       "      <td>0.083253</td>\n",
       "    </tr>\n",
       "    <tr>\n",
       "      <th>4</th>\n",
       "      <td>0.341176</td>\n",
       "      <td>0.381896</td>\n",
       "      <td>0.022247</td>\n",
       "      <td>0.000740</td>\n",
       "      <td>0.000122</td>\n",
       "    </tr>\n",
       "    <tr>\n",
       "      <th>5</th>\n",
       "      <td>1.000000</td>\n",
       "      <td>0.410175</td>\n",
       "      <td>0.033672</td>\n",
       "      <td>0.000113</td>\n",
       "      <td>0.358325</td>\n",
       "    </tr>\n",
       "    <tr>\n",
       "      <th>6</th>\n",
       "      <td>0.047059</td>\n",
       "      <td>0.021336</td>\n",
       "      <td>0.012035</td>\n",
       "      <td>1.000000</td>\n",
       "      <td>1.000000</td>\n",
       "    </tr>\n",
       "    <tr>\n",
       "      <th>7</th>\n",
       "      <td>0.023529</td>\n",
       "      <td>0.439465</td>\n",
       "      <td>1.000000</td>\n",
       "      <td>0.708717</td>\n",
       "      <td>0.210103</td>\n",
       "    </tr>\n",
       "    <tr>\n",
       "      <th>8</th>\n",
       "      <td>0.400000</td>\n",
       "      <td>0.021336</td>\n",
       "      <td>0.404540</td>\n",
       "      <td>0.005162</td>\n",
       "      <td>0.115570</td>\n",
       "    </tr>\n",
       "    <tr>\n",
       "      <th>9</th>\n",
       "      <td>0.117647</td>\n",
       "      <td>0.045575</td>\n",
       "      <td>0.220531</td>\n",
       "      <td>0.214333</td>\n",
       "      <td>0.182132</td>\n",
       "    </tr>\n",
       "    <tr>\n",
       "      <th>10</th>\n",
       "      <td>0.800000</td>\n",
       "      <td>0.085343</td>\n",
       "      <td>0.000824</td>\n",
       "      <td>0.003748</td>\n",
       "      <td>0.000476</td>\n",
       "    </tr>\n",
       "    <tr>\n",
       "      <th>11</th>\n",
       "      <td>0.600000</td>\n",
       "      <td>0.807979</td>\n",
       "      <td>0.339947</td>\n",
       "      <td>0.018972</td>\n",
       "      <td>0.949506</td>\n",
       "    </tr>\n",
       "  </tbody>\n",
       "</table>\n",
       "</div>"
      ],
      "text/plain": [
       "           0         1         2         3         4\n",
       "0   0.847059  1.000000  0.158927  0.881910  0.064133\n",
       "1   0.658824  0.828305  0.017661  0.000234  0.083253\n",
       "2   0.847059  0.024744  0.000009  0.059962  0.000019\n",
       "3   0.741176  0.933720  0.005553  0.486243  0.083253\n",
       "4   0.341176  0.381896  0.022247  0.000740  0.000122\n",
       "5   1.000000  0.410175  0.033672  0.000113  0.358325\n",
       "6   0.047059  0.021336  0.012035  1.000000  1.000000\n",
       "7   0.023529  0.439465  1.000000  0.708717  0.210103\n",
       "8   0.400000  0.021336  0.404540  0.005162  0.115570\n",
       "9   0.117647  0.045575  0.220531  0.214333  0.182132\n",
       "10  0.800000  0.085343  0.000824  0.003748  0.000476\n",
       "11  0.600000  0.807979  0.339947  0.018972  0.949506"
      ]
     },
     "execution_count": 5,
     "metadata": {},
     "output_type": "execute_result"
    }
   ],
   "source": [
    "def linear_regression_estimate(p,q,r):\n",
    "    weight_vector=np.random.randint(0,5,size=(feature_dimension,1))\n",
    "    bias_vector=np.random.randint(1,size=(samples_num,1))\n",
    "    for i in range(0,feature_dimension):\n",
    "        p[p.columns[i]] = p[p.columns[i]].apply(lambda x: x**(i+1))\n",
    "    predcited_values_vector=np.matmul(p,q)+r\n",
    "    return predcited_values_vector , p\n",
    "predicted_values=linear_regression_estimate(data_matrix,weight_vector,bias_vector)\n",
    "predicted_vector=predicted_values[0]\n",
    "predicted_vector\n",
    "transformed_data_matrix=predicted_values[1]\n",
    "transformed_data_matrix"
   ]
  },
  {
   "cell_type": "code",
   "execution_count": 6,
   "id": "886c0ede",
   "metadata": {},
   "outputs": [
    {
     "data": {
      "text/plain": [
       "0    48.381898\n",
       "dtype: float64"
      ]
     },
     "execution_count": 6,
     "metadata": {},
     "output_type": "execute_result"
    }
   ],
   "source": [
    "def mean_square_error(a,b):\n",
    "    error=((a-b).apply(lambda x: x**2).sum())/(2*samples_num)\n",
    "    return error\n",
    "MSE=mean_square_error(predicted_vector,target_vector)\n",
    "MSE "
   ]
  },
  {
   "cell_type": "code",
   "execution_count": 7,
   "id": "55bb45da",
   "metadata": {},
   "outputs": [
    {
     "name": "stderr",
     "output_type": "stream",
     "text": [
      "C:\\Users\\MOHIT PRAJAPAT\\AppData\\Local\\Temp\\ipykernel_18476\\959657677.py:7: FutureWarning: Calling a ufunc on non-aligned DataFrames (or DataFrame/Series combination). Currently, the indices are ignored and the result takes the index/columns of the first DataFrame. In the future , the DataFrames/Series will be aligned before applying the ufunc.\n",
      "Convert one of the arguments to a NumPy array (eg 'ufunc(df1, np.asarray(df2)') to keep the current behaviour, or align manually (eg 'df1, df2 = df1.align(df2)') before passing to the ufunc to obtain the future behaviour and silence this warning.\n",
      "  optimized_weights1 = np.linalg.inv(a[i]*np.identity(feature_dimension)+np.matmul(np.transpose(b),b))\n",
      "C:\\Users\\MOHIT PRAJAPAT\\AppData\\Local\\Temp\\ipykernel_18476\\959657677.py:11: FutureWarning: Calling a ufunc on non-aligned DataFrames (or DataFrame/Series combination). Currently, the indices are ignored and the result takes the index/columns of the first DataFrame. In the future , the DataFrames/Series will be aligned before applying the ufunc.\n",
      "Convert one of the arguments to a NumPy array (eg 'ufunc(df1, np.asarray(df2)') to keep the current behaviour, or align manually (eg 'df1, df2 = df1.align(df2)') before passing to the ufunc to obtain the future behaviour and silence this warning.\n",
      "  optimized_prediction = np.matmul(transformed_data_matrix,optimized_weights)+bias_vector\n"
     ]
    }
   ],
   "source": [
    "lambda_values=[10,1,0.01,0.001,0.0001,0.00001,0.000001]\n",
    "def weight_estimation(a,b,c):\n",
    "    optimized_weight_list = []\n",
    "    optimized_prediction_list = []\n",
    "    optimized_MSE_list = []\n",
    "    for i in range(len(lambda_values)):\n",
    "        optimized_weights1 = np.linalg.inv(a[i]*np.identity(feature_dimension)+np.matmul(np.transpose(b),b))\n",
    "        optimized_weights2 = np.matmul(np.transpose(b),c)\n",
    "        optimized_weights = np.matmul(optimized_weights1,optimized_weights2)\n",
    "        optimized_weight_list.append(optimized_weights)\n",
    "        optimized_prediction = np.matmul(transformed_data_matrix,optimized_weights)+bias_vector\n",
    "        optimized_prediction_list.append(optimized_prediction)\n",
    "        optimized_mean_square_error = ((optimized_prediction-c).apply(lambda x: x**2).sum())/(2*samples_num)\n",
    "        optimized_MSE_list.append(optimized_mean_square_error[0])\n",
    "        min_MSE_position = optimized_MSE_list.index(min(optimized_MSE_list))#https://www.geeksforgeeks.org/python-maximum-minimum-elements-position-list/\n",
    "    return optimized_weight_list[min_MSE_position], optimized_prediction_list[min_MSE_position] ,optimized_MSE_list[min_MSE_position]\n",
    "OUTPUT=weight_estimation(lambda_values,transformed_data_matrix,target_vector)\n",
    "optimal_weight,optimal_prediction,optimal_MSE=OUTPUT[0],OUTPUT[1],OUTPUT[2]\n",
    "    \n",
    "    \n",
    "    "
   ]
  },
  {
   "cell_type": "code",
   "execution_count": 8,
   "id": "8abe8a6c",
   "metadata": {},
   "outputs": [
    {
     "data": {
      "text/plain": [
       "7.460774597092588"
      ]
     },
     "execution_count": 8,
     "metadata": {},
     "output_type": "execute_result"
    }
   ],
   "source": [
    "optimal_MSE"
   ]
  },
  {
   "cell_type": "code",
   "execution_count": 9,
   "id": "710f886d",
   "metadata": {},
   "outputs": [],
   "source": [
    "def mse_gradient_weight(a,b,c,d):\n",
    "    gradient = (np.dot(a.T, np.matmul(a,b)+c-d) / len(d)).sum()\n",
    "    return gradient\n",
    "MSE_gradient = mse_gradient_weight(transformed_data_matrix,weight_vector,bias_vector,target_vector)"
   ]
  },
  {
   "cell_type": "code",
   "execution_count": 10,
   "id": "ad7ad287",
   "metadata": {},
   "outputs": [
    {
     "data": {
      "text/plain": [
       "-15.71876159408501"
      ]
     },
     "execution_count": 10,
     "metadata": {},
     "output_type": "execute_result"
    }
   ],
   "source": [
    "MSE_gradient"
   ]
  },
  {
   "cell_type": "code",
   "execution_count": 11,
   "id": "40f3ee5c",
   "metadata": {},
   "outputs": [],
   "source": [
    "def L2_norm(w):\n",
    "    l2_norm=np.matmul(w.T,w)/2\n",
    "    return l2_norm\n",
    "L2_NORM=L2_norm(weight_vector)"
   ]
  },
  {
   "cell_type": "code",
   "execution_count": 12,
   "id": "f334f890",
   "metadata": {},
   "outputs": [
    {
     "data": {
      "text/plain": [
       "array([[64.]])"
      ]
     },
     "execution_count": 12,
     "metadata": {},
     "output_type": "execute_result"
    }
   ],
   "source": [
    "L2_NORM"
   ]
  },
  {
   "cell_type": "code",
   "execution_count": 13,
   "id": "cca6e57f",
   "metadata": {},
   "outputs": [],
   "source": [
    "def L2_norm_gradient(w):\n",
    "    gradient= w\n",
    "    return pd.DataFrame(gradient)\n",
    "l2_norm_gradient=L2_norm_gradient(weight_vector)\n",
    "    "
   ]
  },
  {
   "cell_type": "code",
   "execution_count": 14,
   "id": "dc760595",
   "metadata": {},
   "outputs": [
    {
     "data": {
      "text/html": [
       "<div>\n",
       "<style scoped>\n",
       "    .dataframe tbody tr th:only-of-type {\n",
       "        vertical-align: middle;\n",
       "    }\n",
       "\n",
       "    .dataframe tbody tr th {\n",
       "        vertical-align: top;\n",
       "    }\n",
       "\n",
       "    .dataframe thead th {\n",
       "        text-align: right;\n",
       "    }\n",
       "</style>\n",
       "<table border=\"1\" class=\"dataframe\">\n",
       "  <thead>\n",
       "    <tr style=\"text-align: right;\">\n",
       "      <th></th>\n",
       "      <th>0</th>\n",
       "    </tr>\n",
       "  </thead>\n",
       "  <tbody>\n",
       "    <tr>\n",
       "      <th>0</th>\n",
       "      <td>-2</td>\n",
       "    </tr>\n",
       "    <tr>\n",
       "      <th>1</th>\n",
       "      <td>4</td>\n",
       "    </tr>\n",
       "    <tr>\n",
       "      <th>2</th>\n",
       "      <td>2</td>\n",
       "    </tr>\n",
       "    <tr>\n",
       "      <th>3</th>\n",
       "      <td>-2</td>\n",
       "    </tr>\n",
       "    <tr>\n",
       "      <th>4</th>\n",
       "      <td>-10</td>\n",
       "    </tr>\n",
       "  </tbody>\n",
       "</table>\n",
       "</div>"
      ],
      "text/plain": [
       "    0\n",
       "0  -2\n",
       "1   4\n",
       "2   2\n",
       "3  -2\n",
       "4 -10"
      ]
     },
     "execution_count": 14,
     "metadata": {},
     "output_type": "execute_result"
    }
   ],
   "source": [
    "l2_norm_gradient"
   ]
  },
  {
   "cell_type": "code",
   "execution_count": 15,
   "id": "a7e5d4c0",
   "metadata": {},
   "outputs": [
    {
     "data": {
      "text/plain": [
       "0    20\n",
       "dtype: int64"
      ]
     },
     "execution_count": 15,
     "metadata": {},
     "output_type": "execute_result"
    }
   ],
   "source": [
    "def L1_norm(w):\n",
    "    norm = pd.DataFrame(w).abs().sum() #https://pandas.pydata.org/docs/reference/api/pandas.DataFrame.abs.html\n",
    "    return norm\n",
    "l1_norm = L1_norm(weight_vector)\n",
    "l1_norm"
   ]
  },
  {
   "cell_type": "code",
   "execution_count": 16,
   "id": "f2fae31c",
   "metadata": {},
   "outputs": [],
   "source": [
    "def L1_norm_gradient(w):\n",
    "    dummy_weight_vector=np.random.randint(0,5,size=(feature_dimension,1))\n",
    "    for i in range(feature_dimension):\n",
    "        if w[i][0]>0:\n",
    "            dummy_weight_vector[i][0]=1\n",
    "        elif w[i][0]<0:\n",
    "            dummy_weight_vector[i][0]=-1\n",
    "        elif w[i][0]==0:\n",
    "            dummy_weight_vector[i][0]=0\n",
    "    return dummy_weight_vector\n",
    "L1_gradient = L1_norm_gradient(weight_vector)\n",
    "\n",
    "    "
   ]
  },
  {
   "cell_type": "code",
   "execution_count": 17,
   "id": "66fdc037",
   "metadata": {},
   "outputs": [
    {
     "data": {
      "text/plain": [
       "array([[-1],\n",
       "       [ 1],\n",
       "       [ 1],\n",
       "       [-1],\n",
       "       [-1]])"
      ]
     },
     "execution_count": 17,
     "metadata": {},
     "output_type": "execute_result"
    }
   ],
   "source": [
    "L1_gradient"
   ]
  },
  {
   "cell_type": "code",
   "execution_count": 18,
   "id": "8e87cecf",
   "metadata": {},
   "outputs": [],
   "source": [
    "def gradient_descent(X, t, w, eta, lambda_2, lambda_1):\n",
    "    gradient_value = np.dot(X.T, np.matmul(X,w)-t) / len(t) + lambda_2*w+ lambda_1*L1_norm_gradient(w)\n",
    "    newly_optimized_weight_vector = w-eta*gradient_value\n",
    "    new_mean_squared_error = (pd.DataFrame((np.dot(X,newly_optimized_weight_vector)-t)).apply(lambda x: x**2).sum())/(2*samples_num)\n",
    "    return newly_optimized_weight_vector , new_mean_squared_error \n",
    "output_gd= gradient_descent(transformed_data_matrix,target_vector,weight_vector,0.01,0.00001,0.00001)\n",
    "updated_weight_vector,updated_MSE =output_gd[0] ,output_gd[1]\n",
    "    \n",
    "    "
   ]
  },
  {
   "cell_type": "code",
   "execution_count": null,
   "id": "c3873ea4",
   "metadata": {},
   "outputs": [],
   "source": []
  }
 ],
 "metadata": {
  "kernelspec": {
   "display_name": "Python 3 (ipykernel)",
   "language": "python",
   "name": "python3"
  },
  "language_info": {
   "codemirror_mode": {
    "name": "ipython",
    "version": 3
   },
   "file_extension": ".py",
   "mimetype": "text/x-python",
   "name": "python",
   "nbconvert_exporter": "python",
   "pygments_lexer": "ipython3",
   "version": "3.9.13"
  }
 },
 "nbformat": 4,
 "nbformat_minor": 5
}
